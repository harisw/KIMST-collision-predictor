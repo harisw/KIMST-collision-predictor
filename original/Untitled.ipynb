{
 "cells": [
  {
   "cell_type": "code",
   "execution_count": 1,
   "metadata": {},
   "outputs": [],
   "source": [
    "import matplotlib.pyplot as plt\n",
    "from matplotlib.animation import FuncAnimation\n",
    "import numpy as np"
   ]
  },
  {
   "cell_type": "code",
   "execution_count": 12,
   "metadata": {},
   "outputs": [],
   "source": [
    "x = np.array([])\n",
    "y = np.array([])\n",
    "vx = np.array([])\n",
    "vy = np.array([])\n",
    "\n",
    "def addRecord(line):\n",
    "    x = x.append(int(line[1]))\n",
    "    y = y.append(int(line[2]))\n",
    "    vx = vx.append(int(line[3]))\n",
    "    vy = vy.append(int(line[4]))\n",
    "    return\n",
    "\n",
    "with open('dataset_best.txt') as f:\n",
    "    for line in f:\n",
    "        cur_line = line.rstrip().split(\" \")\n",
    "        if(cur_line[0] == '0'):\n",
    "            ourX = int(cur_line[1])\n",
    "            ourY = int(cur_line[2])\n",
    "            ourVX = int(cur_line[3])\n",
    "            ourVY = int(cur_line[4])\n",
    "        else:\n",
    "            x = np.append(x, int(cur_line[1]))\n",
    "            y = np.append(y, int(cur_line[2]))\n",
    "            vx = np.append(vx, int(cur_line[3]))\n",
    "            vy = np.append(vy, int(cur_line[4]))\n",
    "            \n",
    "# #day one, the age and speed of 13 cars:\n",
    "# plt.scatter(x, y)\n",
    "# plt.scatter(ourX, ourY)\n",
    "# plt.title(0)\n",
    "# plt.show()\n",
    "\n",
    "for i in range(1,60):\n",
    "    if(i%3 == 0):\n",
    "        ourX = ourX + (3*ourVX)\n",
    "        ourY = ourY + (3*ourVY)\n",
    "        newX = np.array([])\n",
    "        newY = np.array([])\n",
    "        \n",
    "        for count, val in enumerate(x):\n",
    "            predX = x[count] + (3*vx[count])\n",
    "            predY = y[count] + (3*vy[count])\n",
    "            newX = np.append(newX, predX)\n",
    "            newY = np.append(newY, predY)\n",
    "        x = newX\n",
    "        y = newY\n",
    "#         plt.scatter(x, y)\n",
    "#         plt.scatter(ourX, ourY)\n",
    "#         plt.title(i)\n",
    "#         plt.show()"
   ]
  },
  {
   "cell_type": "code",
   "execution_count": 14,
   "metadata": {},
   "outputs": [
    {
     "name": "stdout",
     "output_type": "stream",
     "text": [
      "(50,)\n"
     ]
    },
    {
     "data": {
      "text/plain": [
       "array([ 1979.,   114., -1679.,  2186.,   327.,  -772.,  -346.,   585.,\n",
       "         174.,  -989.,   -48., -1898.,  1280.,   485.,  -564.,   365.,\n",
       "        -566., -1343., -1195.,   248., -1189.,  1808.,  -607., -1703.,\n",
       "         252., -1196.,   549.,   979.,   387.,    39., -2591.,   720.,\n",
       "        -650.,  -336.,   841.,  2219.,   195.,  2800.,  1049.,     9.,\n",
       "        1919.,  -220., -1004., -1186.,  1328.,   228.,  -812.,  -875.,\n",
       "         866.,   937.])"
      ]
     },
     "execution_count": 14,
     "metadata": {},
     "output_type": "execute_result"
    }
   ],
   "source": [
    "print(x.shape)\n",
    "x"
   ]
  },
  {
   "cell_type": "code",
   "execution_count": 15,
   "metadata": {},
   "outputs": [
    {
     "name": "stdout",
     "output_type": "stream",
     "text": [
      "(50,)\n"
     ]
    },
    {
     "data": {
      "text/plain": [
       "array([  -68., -2172.,   248.,   129., -1407.,   625.,  -407.,  1793.,\n",
       "         403.,   166.,  1859.,  2529.,   514.,  1758.,  1401.,   132.,\n",
       "        1108.,  1355.,   250.,  2074.,  -644.,    74., -1714., -1623.,\n",
       "        -810.,   -89.,   148.,   265.,   328.,  -891.,  -906.,  -817.,\n",
       "        -166.,  1952.,  2814.,  2117.,  -563.,  -567.,  -467.,   -71.,\n",
       "       -1702., -1686., -1313.,  1779., -1348.,   967., -1529., -1842.,\n",
       "         605.,  -844.])"
      ]
     },
     "execution_count": 15,
     "metadata": {},
     "output_type": "execute_result"
    }
   ],
   "source": [
    "print(y.shape)\n",
    "y"
   ]
  },
  {
   "cell_type": "code",
   "execution_count": 2,
   "metadata": {},
   "outputs": [
    {
     "data": {
      "image/png": "[encoded data removed]",
      "text/plain": [
       "<Figure size 360x216 with 1 Axes>"
      ]
     },
     "metadata": {
      "needs_background": "light"
     },
     "output_type": "display_data"
    }
   ],
   "source": [
    "#setup plotting area\n",
    "fig, ax = plt.subplots(figsize=(5, 3))\n",
    "ax.set(xlim=(-3, 3), ylim=(-1, 1))\n",
    "\n",
    "x = np.linspace(-3, 3, 91)\n",
    "# t = np.linspace(1, 25, 30)\n",
    "t = np.linspace(1, 10, 10)\n",
    "X2, T2 = np.meshgrid(x, t)\n",
    " \n",
    "sinT2 = np.sin(2*np.pi*T2/T2.max())\n",
    "F = 0.9*sinT2*np.sinc(X2*(1 + sinT2))\n",
    "\n",
    "# line = ax.plot(x, F[0, :], color='k', lw=2)[0]\n",
    "\n",
    "# def animate(i):\n",
    "#     line.set_ydata(F[i, :])\n",
    "scat = ax.scatter(x[::3], F[0, ::3])\n",
    "\n",
    "def animate(i):\n",
    "    y_i = F[i, ::3]\n",
    "    scat.set_offsets(np.c_[x[::3], y_i])\n",
    "\n",
    "anim = FuncAnimation(fig, animate, interval=10, frames=len(t)-1)\n",
    "plt.draw()\n",
    "plt.show()\n",
    "#anim.save('filename.mp4', writer='imagick')"
   ]
  },
  {
   "cell_type": "code",
   "execution_count": 9,
   "metadata": {},
   "outputs": [
    {
     "name": "stdout",
     "output_type": "stream",
     "text": [
      "(91,)\n"
     ]
    },
    {
     "data": {
      "text/plain": [
       "array([-3. , -2.8, -2.6, -2.4, -2.2, -2. , -1.8, -1.6, -1.4, -1.2, -1. ,\n",
       "       -0.8, -0.6, -0.4, -0.2,  0. ,  0.2,  0.4,  0.6,  0.8,  1. ,  1.2,\n",
       "        1.4,  1.6,  1.8,  2. ,  2.2,  2.4,  2.6,  2.8,  3. ])"
      ]
     },
     "execution_count": 9,
     "metadata": {},
     "output_type": "execute_result"
    }
   ],
   "source": [
    "print(x.shape)\n",
    "x[::3]"
   ]
  },
  {
   "cell_type": "code",
   "execution_count": 11,
   "metadata": {},
   "outputs": [
    {
     "data": {
      "text/plain": [
       "29"
      ]
     },
     "execution_count": 11,
     "metadata": {},
     "output_type": "execute_result"
    }
   ],
   "source": [
    "t = np.linspace(1, 25, 30)\n",
    "\n",
    "len(t)-1"
   ]
  },
  {
   "cell_type": "code",
   "execution_count": 8,
   "metadata": {},
   "outputs": [
    {
     "name": "stdout",
     "output_type": "stream",
     "text": [
      "(31,)\n"
     ]
    },
    {
     "data": {
      "text/plain": [
       "array([ 0.02392622,  0.037328  ,  0.01599235, -0.02475891, -0.0481943 ,\n",
       "       -0.02778704,  0.02541823,  0.06574797,  0.04881549, -0.02589549,\n",
       "       -0.10204463, -0.09950146,  0.0261844 ,  0.24160161,  0.44552027,\n",
       "        0.52900673,  0.44552027,  0.24160161,  0.0261844 , -0.09950146,\n",
       "       -0.10204463, -0.02589549,  0.04881549,  0.06574797,  0.02541823,\n",
       "       -0.02778704, -0.0481943 , -0.02475891,  0.01599235,  0.037328  ,\n",
       "        0.02392622])"
      ]
     },
     "execution_count": 8,
     "metadata": {},
     "output_type": "execute_result"
    }
   ],
   "source": [
    "print(F[0, ::3].shape)\n",
    "F[0, ::3]"
   ]
  }
 ],
 "metadata": {
  "kernelspec": {
   "display_name": "Python 3",
   "language": "python",
   "name": "python3"
  },
  "language_info": {
   "codemirror_mode": {
    "name": "ipython",
    "version": 3
   },
   "file_extension": ".py",
   "mimetype": "text/x-python",
   "name": "python",
   "nbconvert_exporter": "python",
   "pygments_lexer": "ipython3",
   "version": "3.7.4"
  }
 },
 "nbformat": 4,
 "nbformat_minor": 4
}
